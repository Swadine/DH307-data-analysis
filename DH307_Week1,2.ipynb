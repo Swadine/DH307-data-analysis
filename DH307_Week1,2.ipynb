{
  "cells": [
    {
      "cell_type": "markdown",
      "metadata": {
        "id": "PI_TuGWL3uJ9"
      },
      "source": []
    },
    {
      "cell_type": "code",
      "execution_count": null,
      "metadata": {
        "id": "p0LL2q4uN_8H"
      },
      "outputs": [],
      "source": [
        "import pandas as pd\n",
        "import numpy as np\n",
        "import matplotlib.pyplot as plt\n",
        "import seaborn as sns"
      ]
    },
    {
      "cell_type": "code",
      "execution_count": null,
      "metadata": {
        "colab": {
          "base_uri": "https://localhost:8080/",
          "height": 390
        },
        "id": "abWfWeXAYGt2",
        "outputId": "d5eebf28-a60b-4371-8925-0fbb461f6570"
      },
      "outputs": [
        {
          "output_type": "error",
          "ename": "FileNotFoundError",
          "evalue": "[Errno 2] No such file or directory: '/content/Dataset 1.csv'",
          "traceback": [
            "\u001b[0;31m---------------------------------------------------------------------------\u001b[0m",
            "\u001b[0;31mFileNotFoundError\u001b[0m                         Traceback (most recent call last)",
            "\u001b[0;32m<ipython-input-2-25f12c138c15>\u001b[0m in \u001b[0;36m<cell line: 1>\u001b[0;34m()\u001b[0m\n\u001b[0;32m----> 1\u001b[0;31m \u001b[0mdf\u001b[0m \u001b[0;34m=\u001b[0m \u001b[0mpd\u001b[0m\u001b[0;34m.\u001b[0m\u001b[0mread_csv\u001b[0m\u001b[0;34m(\u001b[0m\u001b[0;34m\"/content/Dataset 1.csv\"\u001b[0m\u001b[0;34m)\u001b[0m\u001b[0;34m\u001b[0m\u001b[0;34m\u001b[0m\u001b[0m\n\u001b[0m\u001b[1;32m      2\u001b[0m \u001b[0;34m\u001b[0m\u001b[0m\n\u001b[1;32m      3\u001b[0m \u001b[0mlabels\u001b[0m \u001b[0;34m=\u001b[0m \u001b[0mdf\u001b[0m\u001b[0;34m.\u001b[0m\u001b[0miloc\u001b[0m\u001b[0;34m[\u001b[0m\u001b[0;36m0\u001b[0m\u001b[0;34m]\u001b[0m\u001b[0;34m\u001b[0m\u001b[0;34m\u001b[0m\u001b[0m\n\u001b[1;32m      4\u001b[0m \u001b[0mprint\u001b[0m\u001b[0;34m(\u001b[0m\u001b[0mlabels\u001b[0m\u001b[0;34m)\u001b[0m\u001b[0;34m\u001b[0m\u001b[0;34m\u001b[0m\u001b[0m\n\u001b[1;32m      5\u001b[0m \u001b[0mdf\u001b[0m \u001b[0;34m=\u001b[0m \u001b[0mdf\u001b[0m\u001b[0;34m.\u001b[0m\u001b[0mdrop\u001b[0m\u001b[0;34m(\u001b[0m\u001b[0;36m0\u001b[0m\u001b[0;34m)\u001b[0m\u001b[0;34m\u001b[0m\u001b[0;34m\u001b[0m\u001b[0m\n",
            "\u001b[0;32m/usr/local/lib/python3.10/dist-packages/pandas/util/_decorators.py\u001b[0m in \u001b[0;36mwrapper\u001b[0;34m(*args, **kwargs)\u001b[0m\n\u001b[1;32m    209\u001b[0m                 \u001b[0;32melse\u001b[0m\u001b[0;34m:\u001b[0m\u001b[0;34m\u001b[0m\u001b[0;34m\u001b[0m\u001b[0m\n\u001b[1;32m    210\u001b[0m                     \u001b[0mkwargs\u001b[0m\u001b[0;34m[\u001b[0m\u001b[0mnew_arg_name\u001b[0m\u001b[0;34m]\u001b[0m \u001b[0;34m=\u001b[0m \u001b[0mnew_arg_value\u001b[0m\u001b[0;34m\u001b[0m\u001b[0;34m\u001b[0m\u001b[0m\n\u001b[0;32m--> 211\u001b[0;31m             \u001b[0;32mreturn\u001b[0m \u001b[0mfunc\u001b[0m\u001b[0;34m(\u001b[0m\u001b[0;34m*\u001b[0m\u001b[0margs\u001b[0m\u001b[0;34m,\u001b[0m \u001b[0;34m**\u001b[0m\u001b[0mkwargs\u001b[0m\u001b[0;34m)\u001b[0m\u001b[0;34m\u001b[0m\u001b[0;34m\u001b[0m\u001b[0m\n\u001b[0m\u001b[1;32m    212\u001b[0m \u001b[0;34m\u001b[0m\u001b[0m\n\u001b[1;32m    213\u001b[0m         \u001b[0;32mreturn\u001b[0m \u001b[0mcast\u001b[0m\u001b[0;34m(\u001b[0m\u001b[0mF\u001b[0m\u001b[0;34m,\u001b[0m \u001b[0mwrapper\u001b[0m\u001b[0;34m)\u001b[0m\u001b[0;34m\u001b[0m\u001b[0;34m\u001b[0m\u001b[0m\n",
            "\u001b[0;32m/usr/local/lib/python3.10/dist-packages/pandas/util/_decorators.py\u001b[0m in \u001b[0;36mwrapper\u001b[0;34m(*args, **kwargs)\u001b[0m\n\u001b[1;32m    329\u001b[0m                     \u001b[0mstacklevel\u001b[0m\u001b[0;34m=\u001b[0m\u001b[0mfind_stack_level\u001b[0m\u001b[0;34m(\u001b[0m\u001b[0;34m)\u001b[0m\u001b[0;34m,\u001b[0m\u001b[0;34m\u001b[0m\u001b[0;34m\u001b[0m\u001b[0m\n\u001b[1;32m    330\u001b[0m                 )\n\u001b[0;32m--> 331\u001b[0;31m             \u001b[0;32mreturn\u001b[0m \u001b[0mfunc\u001b[0m\u001b[0;34m(\u001b[0m\u001b[0;34m*\u001b[0m\u001b[0margs\u001b[0m\u001b[0;34m,\u001b[0m \u001b[0;34m**\u001b[0m\u001b[0mkwargs\u001b[0m\u001b[0;34m)\u001b[0m\u001b[0;34m\u001b[0m\u001b[0;34m\u001b[0m\u001b[0m\n\u001b[0m\u001b[1;32m    332\u001b[0m \u001b[0;34m\u001b[0m\u001b[0m\n\u001b[1;32m    333\u001b[0m         \u001b[0;31m# error: \"Callable[[VarArg(Any), KwArg(Any)], Any]\" has no\u001b[0m\u001b[0;34m\u001b[0m\u001b[0;34m\u001b[0m\u001b[0m\n",
            "\u001b[0;32m/usr/local/lib/python3.10/dist-packages/pandas/io/parsers/readers.py\u001b[0m in \u001b[0;36mread_csv\u001b[0;34m(filepath_or_buffer, sep, delimiter, header, names, index_col, usecols, squeeze, prefix, mangle_dupe_cols, dtype, engine, converters, true_values, false_values, skipinitialspace, skiprows, skipfooter, nrows, na_values, keep_default_na, na_filter, verbose, skip_blank_lines, parse_dates, infer_datetime_format, keep_date_col, date_parser, dayfirst, cache_dates, iterator, chunksize, compression, thousands, decimal, lineterminator, quotechar, quoting, doublequote, escapechar, comment, encoding, encoding_errors, dialect, error_bad_lines, warn_bad_lines, on_bad_lines, delim_whitespace, low_memory, memory_map, float_precision, storage_options)\u001b[0m\n\u001b[1;32m    948\u001b[0m     \u001b[0mkwds\u001b[0m\u001b[0;34m.\u001b[0m\u001b[0mupdate\u001b[0m\u001b[0;34m(\u001b[0m\u001b[0mkwds_defaults\u001b[0m\u001b[0;34m)\u001b[0m\u001b[0;34m\u001b[0m\u001b[0;34m\u001b[0m\u001b[0m\n\u001b[1;32m    949\u001b[0m \u001b[0;34m\u001b[0m\u001b[0m\n\u001b[0;32m--> 950\u001b[0;31m     \u001b[0;32mreturn\u001b[0m \u001b[0m_read\u001b[0m\u001b[0;34m(\u001b[0m\u001b[0mfilepath_or_buffer\u001b[0m\u001b[0;34m,\u001b[0m \u001b[0mkwds\u001b[0m\u001b[0;34m)\u001b[0m\u001b[0;34m\u001b[0m\u001b[0;34m\u001b[0m\u001b[0m\n\u001b[0m\u001b[1;32m    951\u001b[0m \u001b[0;34m\u001b[0m\u001b[0m\n\u001b[1;32m    952\u001b[0m \u001b[0;34m\u001b[0m\u001b[0m\n",
            "\u001b[0;32m/usr/local/lib/python3.10/dist-packages/pandas/io/parsers/readers.py\u001b[0m in \u001b[0;36m_read\u001b[0;34m(filepath_or_buffer, kwds)\u001b[0m\n\u001b[1;32m    603\u001b[0m \u001b[0;34m\u001b[0m\u001b[0m\n\u001b[1;32m    604\u001b[0m     \u001b[0;31m# Create the parser.\u001b[0m\u001b[0;34m\u001b[0m\u001b[0;34m\u001b[0m\u001b[0m\n\u001b[0;32m--> 605\u001b[0;31m     \u001b[0mparser\u001b[0m \u001b[0;34m=\u001b[0m \u001b[0mTextFileReader\u001b[0m\u001b[0;34m(\u001b[0m\u001b[0mfilepath_or_buffer\u001b[0m\u001b[0;34m,\u001b[0m \u001b[0;34m**\u001b[0m\u001b[0mkwds\u001b[0m\u001b[0;34m)\u001b[0m\u001b[0;34m\u001b[0m\u001b[0;34m\u001b[0m\u001b[0m\n\u001b[0m\u001b[1;32m    606\u001b[0m \u001b[0;34m\u001b[0m\u001b[0m\n\u001b[1;32m    607\u001b[0m     \u001b[0;32mif\u001b[0m \u001b[0mchunksize\u001b[0m \u001b[0;32mor\u001b[0m \u001b[0miterator\u001b[0m\u001b[0;34m:\u001b[0m\u001b[0;34m\u001b[0m\u001b[0;34m\u001b[0m\u001b[0m\n",
            "\u001b[0;32m/usr/local/lib/python3.10/dist-packages/pandas/io/parsers/readers.py\u001b[0m in \u001b[0;36m__init__\u001b[0;34m(self, f, engine, **kwds)\u001b[0m\n\u001b[1;32m   1440\u001b[0m \u001b[0;34m\u001b[0m\u001b[0m\n\u001b[1;32m   1441\u001b[0m         \u001b[0mself\u001b[0m\u001b[0;34m.\u001b[0m\u001b[0mhandles\u001b[0m\u001b[0;34m:\u001b[0m \u001b[0mIOHandles\u001b[0m \u001b[0;34m|\u001b[0m \u001b[0;32mNone\u001b[0m \u001b[0;34m=\u001b[0m \u001b[0;32mNone\u001b[0m\u001b[0;34m\u001b[0m\u001b[0;34m\u001b[0m\u001b[0m\n\u001b[0;32m-> 1442\u001b[0;31m         \u001b[0mself\u001b[0m\u001b[0;34m.\u001b[0m\u001b[0m_engine\u001b[0m \u001b[0;34m=\u001b[0m \u001b[0mself\u001b[0m\u001b[0;34m.\u001b[0m\u001b[0m_make_engine\u001b[0m\u001b[0;34m(\u001b[0m\u001b[0mf\u001b[0m\u001b[0;34m,\u001b[0m \u001b[0mself\u001b[0m\u001b[0;34m.\u001b[0m\u001b[0mengine\u001b[0m\u001b[0;34m)\u001b[0m\u001b[0;34m\u001b[0m\u001b[0;34m\u001b[0m\u001b[0m\n\u001b[0m\u001b[1;32m   1443\u001b[0m \u001b[0;34m\u001b[0m\u001b[0m\n\u001b[1;32m   1444\u001b[0m     \u001b[0;32mdef\u001b[0m \u001b[0mclose\u001b[0m\u001b[0;34m(\u001b[0m\u001b[0mself\u001b[0m\u001b[0;34m)\u001b[0m \u001b[0;34m->\u001b[0m \u001b[0;32mNone\u001b[0m\u001b[0;34m:\u001b[0m\u001b[0;34m\u001b[0m\u001b[0;34m\u001b[0m\u001b[0m\n",
            "\u001b[0;32m/usr/local/lib/python3.10/dist-packages/pandas/io/parsers/readers.py\u001b[0m in \u001b[0;36m_make_engine\u001b[0;34m(self, f, engine)\u001b[0m\n\u001b[1;32m   1733\u001b[0m                 \u001b[0;32mif\u001b[0m \u001b[0;34m\"b\"\u001b[0m \u001b[0;32mnot\u001b[0m \u001b[0;32min\u001b[0m \u001b[0mmode\u001b[0m\u001b[0;34m:\u001b[0m\u001b[0;34m\u001b[0m\u001b[0;34m\u001b[0m\u001b[0m\n\u001b[1;32m   1734\u001b[0m                     \u001b[0mmode\u001b[0m \u001b[0;34m+=\u001b[0m \u001b[0;34m\"b\"\u001b[0m\u001b[0;34m\u001b[0m\u001b[0;34m\u001b[0m\u001b[0m\n\u001b[0;32m-> 1735\u001b[0;31m             self.handles = get_handle(\n\u001b[0m\u001b[1;32m   1736\u001b[0m                 \u001b[0mf\u001b[0m\u001b[0;34m,\u001b[0m\u001b[0;34m\u001b[0m\u001b[0;34m\u001b[0m\u001b[0m\n\u001b[1;32m   1737\u001b[0m                 \u001b[0mmode\u001b[0m\u001b[0;34m,\u001b[0m\u001b[0;34m\u001b[0m\u001b[0;34m\u001b[0m\u001b[0m\n",
            "\u001b[0;32m/usr/local/lib/python3.10/dist-packages/pandas/io/common.py\u001b[0m in \u001b[0;36mget_handle\u001b[0;34m(path_or_buf, mode, encoding, compression, memory_map, is_text, errors, storage_options)\u001b[0m\n\u001b[1;32m    854\u001b[0m         \u001b[0;32mif\u001b[0m \u001b[0mioargs\u001b[0m\u001b[0;34m.\u001b[0m\u001b[0mencoding\u001b[0m \u001b[0;32mand\u001b[0m \u001b[0;34m\"b\"\u001b[0m \u001b[0;32mnot\u001b[0m \u001b[0;32min\u001b[0m \u001b[0mioargs\u001b[0m\u001b[0;34m.\u001b[0m\u001b[0mmode\u001b[0m\u001b[0;34m:\u001b[0m\u001b[0;34m\u001b[0m\u001b[0;34m\u001b[0m\u001b[0m\n\u001b[1;32m    855\u001b[0m             \u001b[0;31m# Encoding\u001b[0m\u001b[0;34m\u001b[0m\u001b[0;34m\u001b[0m\u001b[0m\n\u001b[0;32m--> 856\u001b[0;31m             handle = open(\n\u001b[0m\u001b[1;32m    857\u001b[0m                 \u001b[0mhandle\u001b[0m\u001b[0;34m,\u001b[0m\u001b[0;34m\u001b[0m\u001b[0;34m\u001b[0m\u001b[0m\n\u001b[1;32m    858\u001b[0m                 \u001b[0mioargs\u001b[0m\u001b[0;34m.\u001b[0m\u001b[0mmode\u001b[0m\u001b[0;34m,\u001b[0m\u001b[0;34m\u001b[0m\u001b[0;34m\u001b[0m\u001b[0m\n",
            "\u001b[0;31mFileNotFoundError\u001b[0m: [Errno 2] No such file or directory: '/content/Dataset 1.csv'"
          ]
        }
      ],
      "source": [
        "df = pd.read_csv(\"/content/Dataset 1.csv\")\n",
        "\n",
        "labels = df.iloc[0]\n",
        "print(labels)\n",
        "df = df.drop(0)\n",
        "\n",
        "protein_names = df['Sample']\n",
        "df = df.transpose()\n",
        "\n",
        "print(protein_names)\n",
        "df = df.drop('Sample')"
      ]
    },
    {
      "cell_type": "code",
      "execution_count": null,
      "metadata": {
        "id": "RKkYidhKRDp6"
      },
      "outputs": [],
      "source": [
        "df = df.astype(float)\n",
        "print(\"Data Type is\", df[1].dtypes)\n",
        "df"
      ]
    },
    {
      "cell_type": "code",
      "execution_count": null,
      "metadata": {
        "id": "WEu_BWlAWze3"
      },
      "outputs": [],
      "source": [
        "df.T.describe()"
      ]
    },
    {
      "cell_type": "code",
      "execution_count": null,
      "metadata": {
        "id": "8R8zI4sbTKL9"
      },
      "outputs": [],
      "source": [
        "# sns.set(style=\"whitegrid\")\n",
        "\n",
        "# # Boxplot for each sample\n",
        "# plt.figure(figsize=(15, 15))\n",
        "# sns.boxplot(data=df)\n",
        "# plt.title('Boxplot for Each Protein')\n",
        "# plt.xlabel('Protein')\n",
        "# plt.ylabel('Values')\n",
        "# plt.show()\n"
      ]
    },
    {
      "cell_type": "code",
      "execution_count": null,
      "metadata": {
        "id": "SIYoXD0w81Qv"
      },
      "outputs": [],
      "source": [
        "proteins_of_interest = list(range(1, 10))\n",
        "df[proteins_of_interest].plot(figsize=(15, 8), marker='o')\n",
        "plt.title('Expression Profiles of Proteins of Interest')\n",
        "plt.xlabel('Samples')\n",
        "plt.ylabel('Expression Levels')\n",
        "plt.show()"
      ]
    },
    {
      "cell_type": "code",
      "execution_count": null,
      "metadata": {
        "id": "2am9o0wM-L-y"
      },
      "outputs": [],
      "source": [
        "df = np.log(df)\n",
        "df"
      ]
    },
    {
      "cell_type": "code",
      "execution_count": null,
      "metadata": {
        "id": "EXoX3rxg9Gmq"
      },
      "outputs": [],
      "source": [
        "sns.set(style=\"whitegrid\")\n",
        "\n",
        "# Boxplot for each sample\n",
        "plt.figure(figsize=(15, 15))\n",
        "sns.boxplot(data=df.T)\n",
        "plt.title('Boxplot for Each Sample')\n",
        "plt.xlabel('Protein')\n",
        "plt.ylabel('Values')\n",
        "plt.show()\n"
      ]
    },
    {
      "cell_type": "code",
      "execution_count": null,
      "metadata": {
        "id": "aSl3h38hXimQ"
      },
      "outputs": [],
      "source": [
        "# sample wise correlation\n",
        "correlation_matrix_pearson = df.transpose().corr(method = \"pearson\")\n",
        "plt.figure(figsize=(10, 8))\n",
        "sns.heatmap(correlation_matrix_pearson, cmap='coolwarm', annot=True)\n",
        "plt.title('Sample-Wise Correlation Matrix')\n",
        "plt.xlabel('Samples')\n",
        "plt.ylabel('Samples')\n",
        "plt.show()"
      ]
    },
    {
      "cell_type": "code",
      "execution_count": null,
      "metadata": {
        "id": "p--pfCklfRrv"
      },
      "outputs": [],
      "source": [
        "# sample wise correlation\n",
        "correlation_matrix_spearman = df.transpose().corr(method = \"spearman\")\n",
        "plt.figure(figsize=(10, 8))\n",
        "sns.heatmap(correlation_matrix_spearman, cmap='coolwarm', annot=True)\n",
        "plt.title('Sample-Wise Correlation Matrix')\n",
        "plt.xlabel('Samples')\n",
        "plt.ylabel('Samples')\n",
        "plt.show()"
      ]
    },
    {
      "cell_type": "markdown",
      "metadata": {
        "id": "_UZ92N3M_dfy"
      },
      "source": [
        "Sample to sample correlation is required because due to experimental or transportation of sample errors, an entire sample will be affected and not just some portion i.e certain features of it, so that technical error will easily come out in the correlation matrix(correlation around 0.5). Sometimes it can be that the particular patient/sample is a kid of say age 11, its the biology of the kid that is differing here and not the technical error in sample generation!\n",
        "\n"
      ]
    },
    {
      "cell_type": "code",
      "execution_count": null,
      "metadata": {
        "id": "a8xHQ6Xf-VP9"
      },
      "outputs": [],
      "source": [
        "zero_counts, nan_counts = df.eq(0).sum(), df.eq('NaN').sum()\n",
        "print(zero_counts, nan_counts)\n",
        "# NO MV Imputation required"
      ]
    },
    {
      "cell_type": "code",
      "execution_count": null,
      "metadata": {
        "id": "F-4keno7GlZ1"
      },
      "outputs": [],
      "source": [
        "features = [1, 2, 3]  # Choose some gene indices to visualize\n",
        "\n",
        "plt.figure(figsize=(12, 6))\n",
        "for gene in features:\n",
        "    sns.histplot(df[gene], kde=True, label=f'Gene {gene}')\n",
        "\n",
        "plt.title('Histograms for Selected Genes')\n",
        "plt.xlabel('Expression Levels')\n",
        "plt.ylabel('Frequency')\n",
        "plt.legend()\n",
        "plt.show()"
      ]
    },
    {
      "cell_type": "code",
      "execution_count": null,
      "metadata": {
        "id": "kyg6q5Uga6fr"
      },
      "outputs": [],
      "source": [
        "test = pd.DataFrame({\"A\":[1, 5, 3, 4, 2],\n",
        "                   \"B\":[3, 2, 4, 3, 4],\n",
        "                   \"C\":[2, 2, 7, 3, 4],\n",
        "                   \"D\":[4, 3, 6, 12, 7]},\n",
        "                   index =[\"A1\", \"A2\", \"A3\", \"A4\", \"A5\"])\n",
        "print(test)\n",
        "test_ = test.median(axis=0)\n",
        "print(test_.transpose())\n",
        "# test.subtract(test_, axis = 0)\n",
        "x = test - test_\n",
        "print(x)\n",
        "y = x.mad(axis = 0)\n",
        "print(y)\n",
        "print(x / y)"
      ]
    },
    {
      "cell_type": "code",
      "execution_count": null,
      "metadata": {
        "id": "nQ8DNJ6IXZlc"
      },
      "outputs": [],
      "source": [
        "# Median centering\n",
        "median_centered_data = df - df.median(axis=0)\n",
        "median_centered_data"
      ]
    },
    {
      "cell_type": "code",
      "execution_count": null,
      "metadata": {
        "id": "WJ5OPCYGcenN"
      },
      "outputs": [],
      "source": [
        "features = [1, 2, 3]  # Choose some gene indices to visualize\n",
        "\n",
        "plt.figure(figsize=(12, 6))\n",
        "for gene in features:\n",
        "    sns.histplot(median_centered_data[gene], kde=True, label=f'Gene {gene}')\n",
        "\n",
        "plt.title('Histograms for Selected Genes - Median Centered')\n",
        "plt.xlabel('Expression Levels')\n",
        "plt.ylabel('Frequency')\n",
        "plt.legend()\n",
        "plt.show()"
      ]
    },
    {
      "cell_type": "code",
      "execution_count": null,
      "metadata": {
        "id": "tG0VWziWdKlI"
      },
      "outputs": [],
      "source": [
        "df_mad = df.mad(axis = 0)\n",
        "print(df_mad)\n",
        "median_scaled_data = median_centered_data / df_mad"
      ]
    },
    {
      "cell_type": "code",
      "execution_count": null,
      "metadata": {
        "id": "HXHraDEyd3T3"
      },
      "outputs": [],
      "source": [
        "features = [1, 2, 3]  # Choose some gene indices to visualize\n",
        "\n",
        "plt.figure(figsize=(12, 6))\n",
        "for gene in features:\n",
        "    sns.histplot(median_scaled_data[gene], kde=True, label=f'Gene {gene}')\n",
        "\n",
        "plt.title('Histograms for Selected Genes - Scaled Median Centered')\n",
        "plt.xlabel('Expression Levels')\n",
        "plt.ylabel('Frequency')\n",
        "plt.legend()\n",
        "plt.show()"
      ]
    },
    {
      "cell_type": "code",
      "execution_count": null,
      "metadata": {
        "id": "8h7B6tz-gRxe"
      },
      "outputs": [],
      "source": [
        "test = pd.DataFrame({\"A\":[1, 5, 3, 4, 2],\n",
        "                   \"B\":[3, 2, 4, 3, 4],\n",
        "                   \"C\":[2, 2, 7, 3, 4],\n",
        "                   \"D\":[4, 3, 6, 12, 7]},\n",
        "                   index =[\"A1\", \"A2\", \"A3\", \"A4\", \"A5\"])\n",
        "print(test)\n",
        "test_ = test.mean(axis=0)\n",
        "print(test_.transpose())\n",
        "# test.subtract(test_, axis = 0)\n",
        "x = test - test_\n",
        "print(x)\n",
        "y = x.std(axis = 0)\n",
        "print(y)\n",
        "print(x / y)"
      ]
    },
    {
      "cell_type": "code",
      "execution_count": null,
      "metadata": {
        "id": "Z8YeUS9BhuR0"
      },
      "outputs": [],
      "source": [
        "std_scaled_df = ( df - df.mean(axis=0) ) / df.std(axis=0)\n",
        "features = [1, 2, 3]  # Choose some gene indices to visualize\n",
        "\n",
        "plt.figure(figsize=(12, 6))\n",
        "for gene in features:\n",
        "    sns.histplot(std_scaled_df[gene], kde=True, label=f'Gene {gene}')\n",
        "\n",
        "plt.title('Histograms for Selected Genes - Standard Scaling')\n",
        "plt.xlabel('Expression Levels')\n",
        "plt.ylabel('Frequency')\n",
        "plt.legend()\n",
        "plt.show()"
      ]
    },
    {
      "cell_type": "code",
      "execution_count": null,
      "metadata": {
        "id": "t27NMMY5jdhE"
      },
      "outputs": [],
      "source": [
        "test = pd.DataFrame({\"A\":[1, 5, 3, 4, 2],\n",
        "                   \"B\":[3, 2, 4, 3, 4],\n",
        "                   \"C\":[2, 2, 7, 3, 4],\n",
        "                   \"D\":[4, 3, 6, 12, 7]},\n",
        "                   index =[\"A1\", \"A2\", \"A3\", \"A4\", \"A5\"])\n",
        "print(test)\n",
        "test_ = test.min(axis=0)\n",
        "print(test_.transpose())\n",
        "# test.subtract(test_, axis = 0)\n",
        "x = test - test_\n",
        "print(x)\n",
        "# y = x.std(axis = 0)\n",
        "# print(y)\n",
        "# print(x / y)"
      ]
    },
    {
      "cell_type": "code",
      "execution_count": null,
      "metadata": {
        "id": "H0ySyPltkuG4"
      },
      "outputs": [],
      "source": [
        "min_max_scaled_df = (df - df.min(axis=0)) / (df.max(axis = 0) - df.min(axis = 0))\n",
        "features = [1, 2, 3]  # Choose some gene indices to visualize\n",
        "\n",
        "plt.figure(figsize=(12, 6))\n",
        "for gene in features:\n",
        "    sns.histplot(min_max_scaled_df[gene], kde=True, label=f'Gene {gene}')\n",
        "\n",
        "plt.title('Histograms for Selected Genes - Min Max Scaling')\n",
        "plt.xlabel('Expression Levels')\n",
        "plt.ylabel('Frequency')\n",
        "plt.legend()\n",
        "plt.show()"
      ]
    },
    {
      "cell_type": "code",
      "source": [
        "labels_ = labels.to_numpy()\n",
        "labels_ = labels_[labels_ != 'Label'].astype(float)\n",
        "labels_"
      ],
      "metadata": {
        "id": "jDZZjcMjOmP0"
      },
      "execution_count": null,
      "outputs": []
    },
    {
      "cell_type": "code",
      "execution_count": null,
      "metadata": {
        "id": "R3ngKQgWlQWq"
      },
      "outputs": [],
      "source": [
        "import numpy as np\n",
        "from sklearn.discriminant_analysis import LinearDiscriminantAnalysis\n",
        "from sklearn.datasets import make_classification\n",
        "y = labels_ - 1.0\n",
        "lda = LinearDiscriminantAnalysis(n_components=1)\n",
        "X_lda = lda.fit_transform(std_scaled_df, y)\n",
        "\n",
        "plt.figure(figsize=(12, 6))\n",
        "scatter_class_0 = plt.scatter(X_lda[y == 0], np.zeros_like(X_lda[y == 0]), c='b', marker='o', edgecolors='k', alpha=0.7, label='Class 1')\n",
        "scatter_class_1 = plt.scatter(X_lda[y == 1], np.zeros_like(X_lda[y == 1]), c='r', marker='o', edgecolors='k', alpha=0.7, label='Class 2')\n",
        "\n",
        "scatter_handles = [scatter_class_0, scatter_class_1]\n",
        "\n",
        "plt.legend(handles=scatter_handles, loc='upper right')\n",
        "\n",
        "plt.xlabel('LDA Component 1')\n",
        "plt.title('LDA Projection to 1D with Class Labels')\n",
        "plt.show()"
      ]
    },
    {
      "cell_type": "code",
      "source": [
        "from sklearn.decomposition import PCA\n",
        "\n",
        "pca = PCA(n_components=0.99)\n",
        "reduced_df = pca.fit_transform(std_scaled_df)\n",
        "print(reduced_df.shape)\n",
        "print(pca.components_.shape)\n",
        "loadings = pd.DataFrame(pca.components_.T,\n",
        "columns = [f\"PC{i}\" for i in range(1, pca.components_.shape[0] + 1)],\n",
        "index = df.T.index)\n",
        "# print(loadings)\n",
        "\n",
        "plt.figure(figsize=(12, 6))\n",
        "plt.bar(range(1, len(pca.explained_variance_ratio_) + 1), 100 * pca.explained_variance_ratio_)\n",
        "plt.xlabel('Principal Component')\n",
        "plt.ylabel('Variance Explained (in %)')\n",
        "plt.title('Variance Explained by Principal Components')\n",
        "plt.show()"
      ],
      "metadata": {
        "id": "D2Vb6-7TQasL"
      },
      "execution_count": null,
      "outputs": []
    },
    {
      "cell_type": "code",
      "source": [
        "fig, ax = plt.subplots(figsize=(12,6))\n",
        "\n",
        "for label in np.unique(labels_):\n",
        "    indices = labels_ == label\n",
        "    ax.scatter(reduced_df[indices, 0], reduced_df[indices, 1], label=f'Class {int(label)}', alpha=0.7)\n",
        "\n",
        "ax.set_xlabel('PC1')\n",
        "ax.set_ylabel('PC2')\n",
        "\n",
        "ax.set_title('Biplot with PC1 and PC2')\n",
        "\n",
        "ax.legend()\n",
        "plt.show()"
      ],
      "metadata": {
        "id": "gb_gJp7jRJoX"
      },
      "execution_count": null,
      "outputs": []
    },
    {
      "cell_type": "code",
      "source": [
        "np.where(labels_ == 1)"
      ],
      "metadata": {
        "id": "ea1abFZSabAp"
      },
      "execution_count": null,
      "outputs": []
    },
    {
      "cell_type": "code",
      "source": [
        "from sklearn.cross_decomposition import PLSRegression\n",
        "from sklearn.datasets import make_classification\n",
        "import matplotlib.pyplot as plt\n",
        "\n",
        "plsda = PLSRegression(n_components=2)\n",
        "X_plsda = plsda.fit_transform(std_scaled_df, labels_)\n",
        "X_plsda = np.array(X_plsda)\n",
        "# print(X_plsda)\n",
        "component_1 = X_plsda[0, :, 0]\n",
        "component_2 = X_plsda[0, :, 1]\n",
        "\n",
        "plt.scatter(component_1, component_2, c=labels_, cmap='viridis', marker='o', edgecolors='k', alpha=0.7)\n",
        "plt.xlabel('PLS-DA Component 1')\n",
        "plt.ylabel('PLS-DA Component 2')\n",
        "plt.title('PLS-DA Projection with Class Labels')\n",
        "plt.colorbar(label='Class Labels')\n",
        "plt.show()\n"
      ],
      "metadata": {
        "id": "O-e81lI-Yb0B"
      },
      "execution_count": null,
      "outputs": []
    },
    {
      "cell_type": "code",
      "source": [
        "from sklearn.decomposition import FastICA\n",
        "from sklearn.preprocessing import StandardScaler\n",
        "\n",
        "ica = FastICA(n_components=2, random_state=42)\n",
        "X_ica = ica.fit_transform(std_scaled_df)\n",
        "\n",
        "print(X_ica.shape)\n",
        "plt.figure(figsize=(12, 6))\n",
        "plt.scatter(X_ica[:, 0], X_ica[:, 1], c=labels_, cmap='viridis', marker='o', edgecolors='k', alpha=0.7)\n",
        "plt.xlabel('ICA Component 1')\n",
        "plt.ylabel('ICA Component 2')\n",
        "plt.title('ICA Projection with Class Labels')\n",
        "plt.colorbar(label='Class Labels')\n",
        "plt.show()\n"
      ],
      "metadata": {
        "id": "T2jB_i9spsKg"
      },
      "execution_count": null,
      "outputs": []
    },
    {
      "cell_type": "code",
      "source": [
        "reduced_df = pd.DataFrame(data = reduced_df)\n",
        "reduced_df"
      ],
      "metadata": {
        "id": "1Lv3vXRhiK3m"
      },
      "execution_count": null,
      "outputs": []
    },
    {
      "cell_type": "code",
      "source": [
        "# sample wise correlation\n",
        "correlation_matrix_pearson_pca = reduced_df.T.corr(method = \"pearson\")\n",
        "print(correlation_matrix_pearson_pca.shape)\n",
        "plt.figure(figsize=(10, 8))\n",
        "sns.heatmap(correlation_matrix_pearson, cmap='coolwarm', annot=True)\n",
        "plt.title('Feature Correlation Matrix')\n",
        "plt.xlabel('Features')\n",
        "plt.ylabel('Features')\n",
        "plt.show()"
      ],
      "metadata": {
        "id": "xHhQBiXLuVew"
      },
      "execution_count": null,
      "outputs": []
    },
    {
      "cell_type": "code",
      "source": [
        "group_1_df = reduced_df[labels_ == 1]\n",
        "group_2_df = reduced_df[labels_ == 2]\n",
        "# print(group_1_df)\n",
        "mean_group_1 = group_1_df.mean(axis=0)\n",
        "mean_group_2 = group_2_df.mean(axis=0)\n",
        "\n",
        "fold_change = mean_group_2 / mean_group_1\n",
        "\n",
        "print(\"Fold Change:\")\n",
        "print(fold_change)"
      ],
      "metadata": {
        "id": "K7pNpGNAjWRG"
      },
      "execution_count": null,
      "outputs": []
    }
  ],
  "metadata": {
    "colab": {
      "provenance": []
    },
    "kernelspec": {
      "display_name": "Python 3",
      "name": "python3"
    },
    "language_info": {
      "name": "python"
    }
  },
  "nbformat": 4,
  "nbformat_minor": 0
}